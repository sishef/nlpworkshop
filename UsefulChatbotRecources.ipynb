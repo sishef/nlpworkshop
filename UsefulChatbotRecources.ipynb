{
  "nbformat": 4,
  "nbformat_minor": 0,
  "metadata": {
    "colab": {
      "name": "UsefulChatbotRecources.ipynb",
      "provenance": [],
      "collapsed_sections": [],
      "authorship_tag": "ABX9TyNoWGQ8MtGQuippVMFwEIsF",
      "include_colab_link": true
    },
    "kernelspec": {
      "name": "python3",
      "display_name": "Python 3"
    },
    "language_info": {
      "name": "python"
    }
  },
  "cells": [
    {
      "cell_type": "markdown",
      "metadata": {
        "id": "view-in-github",
        "colab_type": "text"
      },
      "source": [
        "<a href=\"https://colab.research.google.com/github/sishef/nlpworkshop/blob/main/UsefulChatbotRecources.ipynb\" target=\"_parent\"><img src=\"https://colab.research.google.com/assets/colab-badge.svg\" alt=\"Open In Colab\"/></a>"
      ]
    },
    {
      "cell_type": "markdown",
      "source": [
        "# Useful resources"
      ],
      "metadata": {
        "id": "Tov4gMQoMNJH"
      }
    },
    {
      "cell_type": "markdown",
      "source": [
        "\n",
        "Semantic Search with SentenceTransformer: https://sbert.net/examples/applications/semantic-search/README.html\n",
        "\n",
        "DialogGPT tutlorial: https://www.thepythoncode.com/article/conversational-ai-chatbot-with-huggingface-transformers-in-python\n",
        "\n",
        "Another tutorial about semantic similarity: https://towardsdatascience.com/semantic-similarity-using-transformers-8f3cb5bf66d6\n"
      ],
      "metadata": {
        "id": "DUjIXNKWMKhG"
      }
    }
  ]
}