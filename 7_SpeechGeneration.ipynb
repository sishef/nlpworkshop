{
  "nbformat": 4,
  "nbformat_minor": 0,
  "metadata": {
    "colab": {
      "name": "7_SpeechGeneration.ipynb",
      "provenance": [],
      "collapsed_sections": [],
      "authorship_tag": "ABX9TyNeuJVkavK9r01dgLJ6MzOX",
      "include_colab_link": true
    },
    "kernelspec": {
      "name": "python3",
      "display_name": "Python 3"
    },
    "language_info": {
      "name": "python"
    },
    "accelerator": "GPU"
  },
  "cells": [
    {
      "cell_type": "markdown",
      "metadata": {
        "id": "view-in-github",
        "colab_type": "text"
      },
      "source": [
        "<a href=\"https://colab.research.google.com/github/sishef/nlpworkshop/blob/main/7_SpeechGeneration.ipynb\" target=\"_parent\"><img src=\"https://colab.research.google.com/assets/colab-badge.svg\" alt=\"Open In Colab\"/></a>"
      ]
    },
    {
      "cell_type": "markdown",
      "source": [
        "# Notebook 7: Machines can talk too!\n",
        "This notebook will show you how to make your computer speak the response using other ML libraries"
      ],
      "metadata": {
        "id": "sAuaXoaVW6qC"
      }
    },
    {
      "cell_type": "code",
      "execution_count": null,
      "metadata": {
        "id": "0PsZH8hTW5yI"
      },
      "outputs": [],
      "source": [
        "%pip install gTTS\n",
        "%pip install mutagen"
      ]
    },
    {
      "cell_type": "code",
      "source": [
        "import io\n",
        "from gtts import gTTS\n",
        "from IPython.display import Audio, display\n",
        "\n",
        "# Generate a gTTS object from the text\n",
        "gtts_obj = gTTS(text='Machine learning is the bees knees if you please Louise', lang=\"en\", slow=False)\n",
        "\n",
        "# This buffer will be used to store the binary sound data (its an MP3)\n",
        "audio_output_data = io.BytesIO()\n",
        "\n",
        "# This writes the MP3 data to the buffer\n",
        "gtts_obj.write_to_fp(audio_output_data)\n",
        "\n",
        "# This plays the audio from the buffer\n",
        "display(Audio(data=audio_output_data.getvalue(), autoplay=True))"
      ],
      "metadata": {
        "id": "y-p3HpHMXkgz"
      },
      "execution_count": null,
      "outputs": []
    },
    {
      "cell_type": "markdown",
      "source": [
        "**TASK:** Update your chatbot to speak its responses as well as printing them to the screen"
      ],
      "metadata": {
        "id": "gVlgMQdI6cxm"
      }
    },
    {
      "cell_type": "markdown",
      "source": [
        "**TIP:** Google Colab doesn't wait for the audio to finish playing before running the next line of code. If You may want your code to stop running until the audio has finished playing then you can get the length of the audio file and then sleep for that length of time:"
      ],
      "metadata": {
        "id": "u5FlpYW477QX"
      }
    },
    {
      "cell_type": "code",
      "source": [
        "import time\n",
        "from mutagen.mp3 import MP3\n",
        "\n",
        "# Lookup the audio length\n",
        "audio_length_secs = MP3(audio_output_data).info.length\n",
        "print(f\"The audio is {audio_length_secs} seconds long\")\n",
        "\n",
        "# Play the audio\n",
        "display(Audio(data=audio_output_data.getvalue(), autoplay=True))\n",
        "print(\"\\n\\nThis line of code is executed directly after the display(Audio(...)) call.\\nSnoozing....zzzzzzz....\")\n",
        "\n",
        "# Sleep\n",
        "time.sleep(audio_length_secs+0.3)\n",
        "print(\"Wakey wakey! This line of code exeuted after sleeping.\")"
      ],
      "metadata": {
        "id": "krEcYlta61z1"
      },
      "execution_count": null,
      "outputs": []
    }
  ]
}