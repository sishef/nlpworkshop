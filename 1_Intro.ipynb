{
  "nbformat": 4,
  "nbformat_minor": 0,
  "metadata": {
    "colab": {
      "name": "1_Intro.ipynb",
      "provenance": [],
      "collapsed_sections": [],
      "include_colab_link": true
    },
    "kernelspec": {
      "name": "python3",
      "display_name": "Python 3"
    },
    "language_info": {
      "name": "python"
    }
  },
  "cells": [
    {
      "cell_type": "markdown",
      "metadata": {
        "id": "view-in-github",
        "colab_type": "text"
      },
      "source": [
        "<a href=\"https://colab.research.google.com/github/sishef/nlpworkshop/blob/main/1_Intro.ipynb\" target=\"_parent\"><img src=\"https://colab.research.google.com/assets/colab-badge.svg\" alt=\"Open In Colab\"/></a>"
      ]
    },
    {
      "cell_type": "markdown",
      "source": [
        "## Notebook 1: Getting started with Python in Google Colab"
      ],
      "metadata": {
        "id": "f3snhO1LuKzg"
      }
    },
    {
      "cell_type": "markdown",
      "source": [
        "Python is a popular interpreted programming langugage, and Google Colab is an implementation of notebooks, which allow developers and researchers to write, run, and modify Python code in a visual way."
      ],
      "metadata": {
        "id": "KAYVY0NguSef"
      }
    },
    {
      "cell_type": "markdown",
      "source": [
        "## Code cells (TAKEN FROM GOOGLE TUTORIAL)\n",
        "Below is a **code cell**. Once the toolbar button indicates CONNECTED, click in the cell to select it and execute the contents in the following ways:\n",
        "\n",
        "* Click the **Play icon** in the left gutter of the cell;\n",
        "* Type **Cmd/Ctrl+Enter** to run the cell in place;\n",
        "* Type **Shift+Enter** to run the cell and move focus to the next cell (adding one if none exists); or\n",
        "* Type **Alt+Enter** to run the cell and insert a new code cell immediately below it.\n",
        "\n",
        "There are additional options for running some or all cells in the **Runtime** menu.\n"
      ],
      "metadata": {
        "id": "TWXdcEjDun7Z"
      }
    },
    {
      "cell_type": "code",
      "source": [
        "a = 10\n",
        "a"
      ],
      "metadata": {
        "colab": {
          "base_uri": "https://localhost:8080/"
        },
        "id": "zz8ZOhx3uuKy",
        "outputId": "f2036258-b283-44fd-d95f-05fffeca4e2a"
      },
      "execution_count": null,
      "outputs": [
        {
          "output_type": "execute_result",
          "data": {
            "text/plain": [
              "10"
            ]
          },
          "metadata": {},
          "execution_count": 1
        }
      ]
    },
    {
      "cell_type": "markdown",
      "source": [
        "Below is another code cell, which increments a by 1. Try running it a few times, and notice that variables are persistent in a notebook (until you restart the Runtime)"
      ],
      "metadata": {
        "id": "A7rEaw1Su6-F"
      }
    },
    {
      "cell_type": "code",
      "source": [
        "a = a + 1\n",
        "a"
      ],
      "metadata": {
        "colab": {
          "base_uri": "https://localhost:8080/"
        },
        "id": "FlrLimSIuzd4",
        "outputId": "8ad1da91-59e7-4f75-fd16-69e7323eba43"
      },
      "execution_count": null,
      "outputs": [
        {
          "output_type": "execute_result",
          "data": {
            "text/plain": [
              "11"
            ]
          },
          "metadata": {},
          "execution_count": 2
        }
      ]
    },
    {
      "cell_type": "markdown",
      "source": [
        "#### Stopping the runtime\n",
        "In the code cell below is a while loop, which takes an input and prints it, indefinitely.\n",
        "Try running it, and giving it input a few times. Notice how it never halts.\n",
        "\n",
        "To stop it, at the top of the screen click **Runtime > Interrupt Execution** (or click the swirling stop button by the code). This will kill the program."
      ],
      "metadata": {
        "id": "-Bti5yENvzNp"
      }
    },
    {
      "cell_type": "code",
      "source": [
        "while True:\n",
        "  x = input('Input: ')\n",
        "  print(x)"
      ],
      "metadata": {
        "id": "XU98QzzgwLhS"
      },
      "execution_count": null,
      "outputs": []
    },
    {
      "cell_type": "markdown",
      "source": [
        "You'll see some exception text when you interrupt the execution - this is expected. That's because Python considers an interrupt like this to be an exception.\n",
        "\n",
        "As we don't want our users to see an exception when they exit our application, we should give them a proper path to do this - try running the code cell below:"
      ],
      "metadata": {
        "id": "a4zq2UoOwU0J"
      }
    },
    {
      "cell_type": "code",
      "source": [
        "run = True\n",
        "while run:\n",
        "  x = input('Input [type \"exit\" to exit]: ')\n",
        "  if x == 'exit':\n",
        "    print('Setting run to False, ending the while loop')\n",
        "    run = False\n",
        "  else:\n",
        "    print(x)"
      ],
      "metadata": {
        "id": "tnx8ztmfw1tA"
      },
      "execution_count": null,
      "outputs": []
    },
    {
      "cell_type": "markdown",
      "source": [
        "**TASK:** Create your own notebook in a new tab so that you can have both this one and that one open. Call it something like 'MyNotebook1.ipynb'.\n",
        "\n",
        "**TASK:** Copy and paste the code from the code block above into your new notebook and check it runs."
      ],
      "metadata": {
        "id": "K1vzMTPaKtKg"
      }
    }
  ]
}